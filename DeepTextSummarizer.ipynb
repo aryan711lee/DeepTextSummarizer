{
  "cells": [
    {
      "cell_type": "code",
      "execution_count": null,
      "metadata": {
        "colab": {
          "base_uri": "https://localhost:8080/"
        },
        "id": "O4c-3AcFqI0J",
        "outputId": "5d21822f-e8bf-4bd4-cc77-f0d95a8ef87a"
      },
      "outputs": [],
      "source": [
        "!pip install --upgrade datasets huggingface_hub\n"
      ]
    },
    {
      "cell_type": "code",
      "execution_count": null,
      "metadata": {
        "colab": {
          "base_uri": "https://localhost:8080/"
        },
        "id": "PjTSZWPQoAt1",
        "outputId": "9a5a9dbe-e6fc-4efa-e0ee-91b2db502ab6"
      },
      "outputs": [],
      "source": [
        "pip install transformers accelerate datasets"
      ]
    },
    {
      "cell_type": "code",
      "execution_count": null,
      "metadata": {
        "id": "yq5DERVLoYTG"
      },
      "outputs": [],
      "source": [
        "from datasets import load_dataset\n",
        "multinews = load_dataset(\"multi_news\", split=\"test\")"
      ]
    },
    {
      "cell_type": "code",
      "execution_count": null,
      "metadata": {
        "colab": {
          "base_uri": "https://localhost:8080/",
          "height": 423
        },
        "id": "FLY7pmq-oAqT",
        "outputId": "3848e802-384e-45b9-b96d-88d84e099fe5"
      },
      "outputs": [],
      "source": [
        "multinews.to_pandas()\n"
      ]
    },
    {
      "cell_type": "code",
      "execution_count": null,
      "metadata": {
        "id": "u2KgvDZYoAm4"
      },
      "outputs": [],
      "source": [
        "from transformers import AutoTokenizer\n",
        "tokenizer = AutoTokenizer.from_pretrained('t5-small')"
      ]
    },
    {
      "cell_type": "code",
      "execution_count": null,
      "metadata": {
        "id": "3s3WIKSGn53Y"
      },
      "outputs": [],
      "source": [
        "multi_news = multinews.train_test_split(test_size=0.2)"
      ]
    },
    {
      "cell_type": "code",
      "execution_count": null,
      "metadata": {
        "id": "xb1OmzSNonc_"
      },
      "outputs": [],
      "source": [
        "prefix = \"summarize: \"\n",
        "\n",
        "def process_function(examples):\n",
        "    inputs = [prefix + doc for doc in examples['document']]\n",
        "    model_inputs = tokenizer(inputs, max_length=1024, truncation=True)\n",
        "    labels = tokenizer(text = examples['summary'], max_length=128, truncation=True)\n",
        "    model_inputs['labels'] = labels['input_ids']\n",
        "\n",
        "    return model_inputs\n"
      ]
    },
    {
      "cell_type": "code",
      "execution_count": null,
      "metadata": {
        "colab": {
          "base_uri": "https://localhost:8080/",
          "height": 49,
          "referenced_widgets": [
            "5de41a252efa47f6a2080684d571499d",
            "7caa0d54a7e2413b8ae4fad4f258f534",
            "5bf4930a9215454ebab08cfe9f662331",
            "5f041b6e839c4f9da79bc2e70a9470e0",
            "178c1d60a5424ba49771a7beeaddf68b",
            "2c2a283970f0404f9f0255ffac290e68",
            "b16bc82cfd3a4e97b123346c152fe611",
            "a93301906202463ca11138cd68eb2d03",
            "03f2fc4aa3674fdd96cfba457d12e093",
            "e30750f3f9924c359c060fae080d5dfa",
            "3128709b180149ed919269c224cd8ce9"
          ]
        },
        "id": "Pli-gvz0onZb",
        "outputId": "a5fe6598-a19b-48a0-ec31-2f50e38784d8"
      },
      "outputs": [],
      "source": [
        "tokenizer_multi_news = multi_news.map(process_function, batched=True)"
      ]
    },
    {
      "cell_type": "code",
      "execution_count": null,
      "metadata": {
        "id": "7QBhsq-9onVw"
      },
      "outputs": [],
      "source": [
        "from transformers import DataCollatorForSeq2Seq, AutoModelForSeq2SeqLM, Seq2SeqTrainingArguments, Seq2SeqTrainer\n",
        "data_collator = DataCollatorForSeq2Seq(tokenizer= tokenizer, model='t5-small')\n",
        "model = AutoModelForSeq2SeqLM.from_pretrained('t5-small')"
      ]
    },
    {
      "cell_type": "code",
      "execution_count": null,
      "metadata": {
        "id": "F0L8NzqBonSj"
      },
      "outputs": [],
      "source": [
        "trainings_args = Seq2SeqTrainingArguments(\n",
        "    output_dir=\"./results\",\n",
        "    do_eval=True,\n",
        "    learning_rate=2e-5,\n",
        "    per_device_train_batch_size=10,\n",
        "    per_device_eval_batch_size=10,\n",
        "    weight_decay=0.01,\n",
        "    save_total_limit=3,\n",
        "    num_train_epochs=10,\n",
        "    fp16=True\n",
        ")\n"
      ]
    },
    {
      "cell_type": "code",
      "execution_count": null,
      "metadata": {
        "id": "_eYjKjmjom5F"
      },
      "outputs": [],
      "source": [
        "trainer  = Seq2SeqTrainer(\n",
        "    model=model,\n",
        "    args=trainings_args,\n",
        "    data_collator=data_collator,\n",
        "    train_dataset=tokenizer_multi_news['train'],\n",
        "    eval_dataset=tokenizer_multi_news['test'],\n",
        ")"
      ]
    },
    {
      "cell_type": "code",
      "execution_count": null,
      "metadata": {
        "collapsed": true,
        "id": "DDjui2UWo038"
      },
      "outputs": [],
      "source": [
        "trainer.train()"
      ]
    },
    {
      "cell_type": "code",
      "execution_count": null,
      "metadata": {
        "id": "ieP8aRKztf5h"
      },
      "outputs": [],
      "source": [
        "text = '''In 1954, U.S. Marshal Edward \"Teddy\" Daniels and his new partner Chuck Aule travel to Ashecliffe Hospital for the criminally insane on the inhospitable Shutter Island, Boston Harbor, to investigate the disappearance of Rachel Solando, a patient of the hospital who had previously drowned her three children.\n",
        "\n",
        "The staff, led by psychiatrist Dr. John Cawley and his colleague Dr. Jerimiah Naehring, appear uncooperative. The marshals learn that Dr. Lester Sheehan, who was treating Solando, had left the island on vacation immediately after Solando disappeared. Teddy experiences migraine headaches, flashbacks of his experiences as a U.S. Army soldier during the liberation of Dachau, and also vivid dreams of his wife Dolores, who was killed in a fire set by arsonist Andrew Laeddis. Teddy explains to Chuck that he took the case to find Laeddis, believing he is on the island. Solando suddenly resurfaces and believes Teddy is her husband. Teddy later breaks into the restricted Ward C to find Laeddis, where he meets patient George Noyce who appears to know Teddy. He tells Teddy that the doctors experiment on patients and some are taken to a lighthouse to be lobotomized. He warns Teddy that everyone is deceiving him and tells him not to trust Chuck.\n",
        "\n",
        "Teddy regroups with Chuck and they climb the cliffs toward the lighthouse but become separated. Believing he saw Chuck's body on the rocks below, Teddy climbs down but finds only a cave where a woman claiming to be the real Solando is hiding. She states that she is a former psychiatrist who discovered clandestine experiments to develop mind control but was forcibly committed. She says that Cawley and Dr. Naehring will use Teddy's war trauma to feign a psychotic break, allowing them to have him also committed. Teddy returns to the hospital and is greeted by Cawley. When Teddy asks about Chuck's whereabouts, Cawley insists that Teddy does not have a partner and that he arrived on the island alone.\n",
        "\n",
        "Convinced Chuck was taken to the lighthouse, Teddy heads there but runs into Naehring, who attempts to sedate him. Teddy overpowers him and breaks into the lighthouse, only to discover Cawley waiting for him. Teddy confronts Cawley and reveals his encounter with Solando, saying he believes Cawley is experimenting on him. Cawley denies that Solando ever existed, and insists that Teddy has not been drugged, explaining the tremors as withdrawals from chlorpromazine, a neuroleptic medication that Teddy has been taking for two years. Chuck arrives and reveals he is, in fact, Dr. Sheehan. Cawley explains that \"Teddy\" is Andrew Laeddis, a U.S. Marshal incarcerated at Ashecliffe for murdering his manic depressive wife after she drowned their three children. Andrew did not seek treatment for Dolores when she burned down their apartment and instead moved his family to a lake house, where Dolores carried out the killings. Cawley explains that Andrew's delusion is a result of his guilt, that his migraines and hallucinations are withdrawal symptoms, and that he had created the alternate persona of Edward Daniels,[a] also a Marshal, who acted violently and espoused conspiracy theories about the facility. The \"investigation\" is an elaborate role-play to regain his true persona. Overwhelmed by his sudden recall, Andrew faints.\n",
        "\n",
        "Awakening later, Andrew calmly recounts the truth, satisfying the doctors that he is lucid. Cawley notes that they had achieved this state nine months before, but that Andrew had quickly regressed. He warns that this will be Andrew's last chance and if he lapses again he will be lobotomized due to his very violent conduct towards other patients such as Noyce, and towards the guards. Sometime later, Andrew relaxes on the hospital grounds with Sheehan. Appearing delusional, Andrew again refers to Sheehan as \"Chuck\" and says they must leave the island. Sheehan signals to Cawley, who orders that Andrew be lobotomized. Andrew then asks Sheehan if it would be worse \"to live as a monster, or to die as a good man\". A stunned Sheehan calls Andrew \"Teddy\" but the latter does not respond and leaves peacefully with the orderlies for his operation.'''"
      ]
    },
    {
      "cell_type": "code",
      "execution_count": null,
      "metadata": {
        "id": "BU4bTil32UQC"
      },
      "outputs": [],
      "source": [
        "input_ids = tokenizer(text, max_length=1024,truncation = True, return_tensors= 'pt').input_ids\n",
        "input_ids = input_ids.to('cuda')"
      ]
    },
    {
      "cell_type": "code",
      "execution_count": null,
      "metadata": {
        "id": "9i4TtS1E3DyO"
      },
      "outputs": [],
      "source": [
        "import torch\n",
        "with torch.no_grad():\n",
        "  if model.device.type == 'cuda':\n",
        "    output = model.generate(input_ids, max_length = 128, num_beams =5)\n",
        "\n",
        "summary_ids = output[0].tolist()\n",
        "\n",
        "summary = tokenizer.decode(summary_ids, skip_special_tokens = True)\n",
        "print(summary)"
      ]
    },
    {
      "cell_type": "code",
      "execution_count": null,
      "metadata": {
        "id": "_98OVZrb4s6t"
      },
      "outputs": [],
      "source": [
        "ref_summary = '''In 1954, U.S. Marshal Edward \"Teddy\" Daniels and his partner Chuck Aule investigate Rachel Solando's disappearance at Ashecliffe Hospital on Shutter Island. They encounter Dr. John Cawley and Dr. Jerimiah Naehring, who seem uncooperative. Teddy experiences migraine headaches, flashbacks, and vivid dreams of his wife Dolores, who was killed by arsonist Andrew Laeddis. He meets George Noyce, who warns him not to trust Chuck. Teddy overpowers Naehring and breaks into the lighthouse, where he discovers Dr. Sheehan is Andrew Laeddis, a U.S. Marshal incarcerated for murdering his wife. Andrew regains lucidity, but Cawley warns him of lobotomization if he lapses again.'''"
      ]
    },
    {
      "cell_type": "code",
      "execution_count": null,
      "metadata": {
        "id": "lL_E7wQS5Txs"
      },
      "outputs": [],
      "source": [
        "pip install rouge"
      ]
    },
    {
      "cell_type": "code",
      "execution_count": null,
      "metadata": {
        "id": "MrgWRDvb46SF"
      },
      "outputs": [],
      "source": [
        "from rouge import Rouge\n",
        "rouge = Rouge()\n",
        "scores = rouge.get_scores(summary, ref_summary)\n",
        "scores"
      ]
    },
    {
      "cell_type": "code",
      "execution_count": null,
      "metadata": {
        "id": "WEkDs5-c5qj0"
      },
      "outputs": [],
      "source": [
        "trainer.save_model()"
      ]
    },
    {
      "cell_type": "code",
      "execution_count": null,
      "metadata": {
        "id": "DL2xoz9v58jJ"
      },
      "outputs": [],
      "source": [
        "model.save_pretrained(\"summarizer\")"
      ]
    }
  ],
  "metadata": {
    "accelerator": "GPU",
    "colab": {
      "gpuType": "T4",
      "provenance": []
    },
    "kernelspec": {
      "display_name": "Python 3",
      "name": "python3"
    },
    "language_info": {
      "codemirror_mode": {
        "name": "ipython",
        "version": 3
      },
      "file_extension": ".py",
      "mimetype": "text/x-python",
      "name": "python",
      "nbconvert_exporter": "python",
      "pygments_lexer": "ipython3",
      "version": "3.11.4"
    },
    "widgets": {
      "application/vnd.jupyter.widget-state+json": {
        "03f2fc4aa3674fdd96cfba457d12e093": {
          "model_module": "@jupyter-widgets/controls",
          "model_module_version": "1.5.0",
          "model_name": "ProgressStyleModel",
          "state": {
            "_model_module": "@jupyter-widgets/controls",
            "_model_module_version": "1.5.0",
            "_model_name": "ProgressStyleModel",
            "_view_count": null,
            "_view_module": "@jupyter-widgets/base",
            "_view_module_version": "1.2.0",
            "_view_name": "StyleView",
            "bar_color": null,
            "description_width": ""
          }
        },
        "178c1d60a5424ba49771a7beeaddf68b": {
          "model_module": "@jupyter-widgets/base",
          "model_module_version": "1.2.0",
          "model_name": "LayoutModel",
          "state": {
            "_model_module": "@jupyter-widgets/base",
            "_model_module_version": "1.2.0",
            "_model_name": "LayoutModel",
            "_view_count": null,
            "_view_module": "@jupyter-widgets/base",
            "_view_module_version": "1.2.0",
            "_view_name": "LayoutView",
            "align_content": null,
            "align_items": null,
            "align_self": null,
            "border": null,
            "bottom": null,
            "display": null,
            "flex": null,
            "flex_flow": null,
            "grid_area": null,
            "grid_auto_columns": null,
            "grid_auto_flow": null,
            "grid_auto_rows": null,
            "grid_column": null,
            "grid_gap": null,
            "grid_row": null,
            "grid_template_areas": null,
            "grid_template_columns": null,
            "grid_template_rows": null,
            "height": null,
            "justify_content": null,
            "justify_items": null,
            "left": null,
            "margin": null,
            "max_height": null,
            "max_width": null,
            "min_height": null,
            "min_width": null,
            "object_fit": null,
            "object_position": null,
            "order": null,
            "overflow": null,
            "overflow_x": null,
            "overflow_y": null,
            "padding": null,
            "right": null,
            "top": null,
            "visibility": null,
            "width": null
          }
        },
        "2c2a283970f0404f9f0255ffac290e68": {
          "model_module": "@jupyter-widgets/base",
          "model_module_version": "1.2.0",
          "model_name": "LayoutModel",
          "state": {
            "_model_module": "@jupyter-widgets/base",
            "_model_module_version": "1.2.0",
            "_model_name": "LayoutModel",
            "_view_count": null,
            "_view_module": "@jupyter-widgets/base",
            "_view_module_version": "1.2.0",
            "_view_name": "LayoutView",
            "align_content": null,
            "align_items": null,
            "align_self": null,
            "border": null,
            "bottom": null,
            "display": null,
            "flex": null,
            "flex_flow": null,
            "grid_area": null,
            "grid_auto_columns": null,
            "grid_auto_flow": null,
            "grid_auto_rows": null,
            "grid_column": null,
            "grid_gap": null,
            "grid_row": null,
            "grid_template_areas": null,
            "grid_template_columns": null,
            "grid_template_rows": null,
            "height": null,
            "justify_content": null,
            "justify_items": null,
            "left": null,
            "margin": null,
            "max_height": null,
            "max_width": null,
            "min_height": null,
            "min_width": null,
            "object_fit": null,
            "object_position": null,
            "order": null,
            "overflow": null,
            "overflow_x": null,
            "overflow_y": null,
            "padding": null,
            "right": null,
            "top": null,
            "visibility": null,
            "width": null
          }
        },
        "3128709b180149ed919269c224cd8ce9": {
          "model_module": "@jupyter-widgets/controls",
          "model_module_version": "1.5.0",
          "model_name": "DescriptionStyleModel",
          "state": {
            "_model_module": "@jupyter-widgets/controls",
            "_model_module_version": "1.5.0",
            "_model_name": "DescriptionStyleModel",
            "_view_count": null,
            "_view_module": "@jupyter-widgets/base",
            "_view_module_version": "1.2.0",
            "_view_name": "StyleView",
            "description_width": ""
          }
        },
        "5bf4930a9215454ebab08cfe9f662331": {
          "model_module": "@jupyter-widgets/controls",
          "model_module_version": "1.5.0",
          "model_name": "FloatProgressModel",
          "state": {
            "_dom_classes": [],
            "_model_module": "@jupyter-widgets/controls",
            "_model_module_version": "1.5.0",
            "_model_name": "FloatProgressModel",
            "_view_count": null,
            "_view_module": "@jupyter-widgets/controls",
            "_view_module_version": "1.5.0",
            "_view_name": "ProgressView",
            "bar_style": "success",
            "description": "",
            "description_tooltip": null,
            "layout": "IPY_MODEL_a93301906202463ca11138cd68eb2d03",
            "max": 4497,
            "min": 0,
            "orientation": "horizontal",
            "style": "IPY_MODEL_03f2fc4aa3674fdd96cfba457d12e093",
            "value": 4497
          }
        },
        "5de41a252efa47f6a2080684d571499d": {
          "model_module": "@jupyter-widgets/controls",
          "model_module_version": "1.5.0",
          "model_name": "HBoxModel",
          "state": {
            "_dom_classes": [],
            "_model_module": "@jupyter-widgets/controls",
            "_model_module_version": "1.5.0",
            "_model_name": "HBoxModel",
            "_view_count": null,
            "_view_module": "@jupyter-widgets/controls",
            "_view_module_version": "1.5.0",
            "_view_name": "HBoxView",
            "box_style": "",
            "children": [
              "IPY_MODEL_7caa0d54a7e2413b8ae4fad4f258f534",
              "IPY_MODEL_5bf4930a9215454ebab08cfe9f662331",
              "IPY_MODEL_5f041b6e839c4f9da79bc2e70a9470e0"
            ],
            "layout": "IPY_MODEL_178c1d60a5424ba49771a7beeaddf68b"
          }
        },
        "5f041b6e839c4f9da79bc2e70a9470e0": {
          "model_module": "@jupyter-widgets/controls",
          "model_module_version": "1.5.0",
          "model_name": "HTMLModel",
          "state": {
            "_dom_classes": [],
            "_model_module": "@jupyter-widgets/controls",
            "_model_module_version": "1.5.0",
            "_model_name": "HTMLModel",
            "_view_count": null,
            "_view_module": "@jupyter-widgets/controls",
            "_view_module_version": "1.5.0",
            "_view_name": "HTMLView",
            "description": "",
            "description_tooltip": null,
            "layout": "IPY_MODEL_e30750f3f9924c359c060fae080d5dfa",
            "placeholder": "​",
            "style": "IPY_MODEL_3128709b180149ed919269c224cd8ce9",
            "value": " 4497/4497 [02:15&lt;00:00, 37.22 examples/s]"
          }
        },
        "7caa0d54a7e2413b8ae4fad4f258f534": {
          "model_module": "@jupyter-widgets/controls",
          "model_module_version": "1.5.0",
          "model_name": "HTMLModel",
          "state": {
            "_dom_classes": [],
            "_model_module": "@jupyter-widgets/controls",
            "_model_module_version": "1.5.0",
            "_model_name": "HTMLModel",
            "_view_count": null,
            "_view_module": "@jupyter-widgets/controls",
            "_view_module_version": "1.5.0",
            "_view_name": "HTMLView",
            "description": "",
            "description_tooltip": null,
            "layout": "IPY_MODEL_2c2a283970f0404f9f0255ffac290e68",
            "placeholder": "​",
            "style": "IPY_MODEL_b16bc82cfd3a4e97b123346c152fe611",
            "value": "Map: 100%"
          }
        },
        "a93301906202463ca11138cd68eb2d03": {
          "model_module": "@jupyter-widgets/base",
          "model_module_version": "1.2.0",
          "model_name": "LayoutModel",
          "state": {
            "_model_module": "@jupyter-widgets/base",
            "_model_module_version": "1.2.0",
            "_model_name": "LayoutModel",
            "_view_count": null,
            "_view_module": "@jupyter-widgets/base",
            "_view_module_version": "1.2.0",
            "_view_name": "LayoutView",
            "align_content": null,
            "align_items": null,
            "align_self": null,
            "border": null,
            "bottom": null,
            "display": null,
            "flex": null,
            "flex_flow": null,
            "grid_area": null,
            "grid_auto_columns": null,
            "grid_auto_flow": null,
            "grid_auto_rows": null,
            "grid_column": null,
            "grid_gap": null,
            "grid_row": null,
            "grid_template_areas": null,
            "grid_template_columns": null,
            "grid_template_rows": null,
            "height": null,
            "justify_content": null,
            "justify_items": null,
            "left": null,
            "margin": null,
            "max_height": null,
            "max_width": null,
            "min_height": null,
            "min_width": null,
            "object_fit": null,
            "object_position": null,
            "order": null,
            "overflow": null,
            "overflow_x": null,
            "overflow_y": null,
            "padding": null,
            "right": null,
            "top": null,
            "visibility": null,
            "width": null
          }
        },
        "b16bc82cfd3a4e97b123346c152fe611": {
          "model_module": "@jupyter-widgets/controls",
          "model_module_version": "1.5.0",
          "model_name": "DescriptionStyleModel",
          "state": {
            "_model_module": "@jupyter-widgets/controls",
            "_model_module_version": "1.5.0",
            "_model_name": "DescriptionStyleModel",
            "_view_count": null,
            "_view_module": "@jupyter-widgets/base",
            "_view_module_version": "1.2.0",
            "_view_name": "StyleView",
            "description_width": ""
          }
        },
        "e30750f3f9924c359c060fae080d5dfa": {
          "model_module": "@jupyter-widgets/base",
          "model_module_version": "1.2.0",
          "model_name": "LayoutModel",
          "state": {
            "_model_module": "@jupyter-widgets/base",
            "_model_module_version": "1.2.0",
            "_model_name": "LayoutModel",
            "_view_count": null,
            "_view_module": "@jupyter-widgets/base",
            "_view_module_version": "1.2.0",
            "_view_name": "LayoutView",
            "align_content": null,
            "align_items": null,
            "align_self": null,
            "border": null,
            "bottom": null,
            "display": null,
            "flex": null,
            "flex_flow": null,
            "grid_area": null,
            "grid_auto_columns": null,
            "grid_auto_flow": null,
            "grid_auto_rows": null,
            "grid_column": null,
            "grid_gap": null,
            "grid_row": null,
            "grid_template_areas": null,
            "grid_template_columns": null,
            "grid_template_rows": null,
            "height": null,
            "justify_content": null,
            "justify_items": null,
            "left": null,
            "margin": null,
            "max_height": null,
            "max_width": null,
            "min_height": null,
            "min_width": null,
            "object_fit": null,
            "object_position": null,
            "order": null,
            "overflow": null,
            "overflow_x": null,
            "overflow_y": null,
            "padding": null,
            "right": null,
            "top": null,
            "visibility": null,
            "width": null
          }
        }
      }
    }
  },
  "nbformat": 4,
  "nbformat_minor": 0
}
